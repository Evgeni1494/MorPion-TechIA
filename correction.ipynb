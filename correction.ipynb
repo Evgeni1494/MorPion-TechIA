{
 "cells": [
  {
   "cell_type": "markdown",
   "metadata": {},
   "source": [
    "# Correction Morpion\n"
   ]
  },
  {
   "cell_type": "markdown",
   "metadata": {},
   "source": [
    "## Grille"
   ]
  },
  {
   "cell_type": "code",
   "execution_count": 3,
   "metadata": {},
   "outputs": [],
   "source": [
    "Plateau = {\n",
    "    \"A\" : [None for _ in range(3)],\n",
    "    \"B\" : [None for _ in range(3)],\n",
    "    \"C\" : [None for _ in range(3)]\n",
    "}"
   ]
  },
  {
   "cell_type": "markdown",
   "metadata": {},
   "source": [
    "## Afficher Grille"
   ]
  },
  {
   "cell_type": "code",
   "execution_count": 6,
   "metadata": {},
   "outputs": [
    {
     "name": "stdout",
     "output_type": "stream",
     "text": [
      "\t|t0\t|t1\t|t2\t|\n",
      "\n",
      "-----------------------------------------------------------------------\n",
      "A\t|\tNone\t|\tNone\t|\tNone\t|\t\n",
      "-----------------------------------------------------------------------\n",
      "B\t|\tNone\t|\tNone\t|\tNone\t|\t\n",
      "-----------------------------------------------------------------------\n",
      "C\t|\tNone\t|\tNone\t|\tNone\t|\t\n",
      "-----------------------------------------------------------------------\n"
     ]
    }
   ],
   "source": [
    "def afficher_grille(plateau:dict) -> None:\n",
    "    \"\"\"Fonction qui affiche la grille.\n",
    "\n",
    "    Args:\n",
    "        plateau (dict): Plateau de jeu.\n",
    "        \n",
    "    \"\"\"\n",
    "    print(\"\\t|t0\\t|t1\\t|t2\\t|\")\n",
    "    print(\"\\n-----------------------------------------------------------------------\")\n",
    "    for cle in plateau:\n",
    "        print(cle,end=\"\\t|\\t\")\n",
    "        for elt in plateau[cle]:\n",
    "            print(elt,end=\"\\t|\\t\")\n",
    "        print(\"\\n-----------------------------------------------------------------------\")\n",
    "            \n",
    "afficher_grille(Plateau)"
   ]
  },
  {
   "cell_type": "code",
   "execution_count": 7,
   "metadata": {},
   "outputs": [],
   "source": [
    "def jouer_un_coup(plateau:dict,joueur:str,coup:str) -> None:\n",
    "    \"\"\"FOnction qui joue un coup (ne verifie pas si le coup est valide)\n",
    "\n",
    "    Args:\n",
    "        plateau (dict): le plateau de jeu.\n",
    "        jouer (str): \"0\" ou \"X\"\n",
    "        coup (str): Coordonnées de la forme \"A1\"\n",
    "    \"\"\"\n",
    "    plateau[coup[0]][int(coup[1])] = joueur"
   ]
  },
  {
   "cell_type": "markdown",
   "metadata": {},
   "source": [
    "## Verifier si le coup est valide"
   ]
  },
  {
   "cell_type": "code",
   "execution_count": null,
   "metadata": {},
   "outputs": [],
   "source": [
    "def coup_valide(plateau:dict,coup:str) -> bool:\n",
    "    \"\"\"FOnction si un coup est valide\n",
    "\n",
    "    Args:\n",
    "        plateau (dict): plateau du jeu\n",
    "        coup (str): un coup de la forme \"A1\" avec le premier character entre A et C et le second entre 0 et 2.as_integer_ratio\n",
    "        \n",
    "\n",
    "    Returns:\n",
    "        bool: True si le coup est valide, Fales sinon.\n",
    "    \"\"\"\n",
    "    # si le coup est valide\n",
    "    if coup[0].upper() not in [\"A\",\"B\",\"C\"]:\n",
    "        return False\n",
    "    if coup[1].upper() not in [\"0\",\"1\",\"2\"]:\n",
    "        return False\n",
    "    \n",
    "    # verifier si la case est vide\n",
    "    if plateau[coup[0].upper()][int(coup[1])] == None:\n",
    "        return True\n",
    "    else:\n",
    "        return False"
   ]
  }
 ],
 "metadata": {
  "kernelspec": {
   "display_name": "Python 3",
   "language": "python",
   "name": "python3"
  },
  "language_info": {
   "codemirror_mode": {
    "name": "ipython",
    "version": 3
   },
   "file_extension": ".py",
   "mimetype": "text/x-python",
   "name": "python",
   "nbconvert_exporter": "python",
   "pygments_lexer": "ipython3",
   "version": "3.10.6"
  },
  "orig_nbformat": 4,
  "vscode": {
   "interpreter": {
    "hash": "916dbcbb3f70747c44a77c7bcd40155683ae19c65e1c03b4aa3499c5328201f1"
   }
  }
 },
 "nbformat": 4,
 "nbformat_minor": 2
}
