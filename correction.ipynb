{
 "cells": [
  {
   "cell_type": "markdown",
   "metadata": {},
   "source": [
    "# Correction Morpion\n"
   ]
  },
  {
   "cell_type": "markdown",
   "metadata": {},
   "source": [
    "## Grille"
   ]
  },
  {
   "cell_type": "code",
   "execution_count": 3,
   "metadata": {},
   "outputs": [],
   "source": [
    "Plateau = {\n",
    "    \"A\" : [None for _ in range(3)],\n",
    "    \"B\" : [None for _ in range(3)],\n",
    "    \"C\" : [None for _ in range(3)]\n",
    "}"
   ]
  },
  {
   "cell_type": "markdown",
   "metadata": {},
   "source": [
    "## Afficher Grille"
   ]
  },
  {
   "cell_type": "code",
   "execution_count": 6,
   "metadata": {},
   "outputs": [
    {
     "name": "stdout",
     "output_type": "stream",
     "text": [
      "\t|t0\t|t1\t|t2\t|\n",
      "\n",
      "-----------------------------------------------------------------------\n",
      "A\t|\tNone\t|\tNone\t|\tNone\t|\t\n",
      "-----------------------------------------------------------------------\n",
      "B\t|\tNone\t|\tNone\t|\tNone\t|\t\n",
      "-----------------------------------------------------------------------\n",
      "C\t|\tNone\t|\tNone\t|\tNone\t|\t\n",
      "-----------------------------------------------------------------------\n"
     ]
    }
   ],
   "source": [
    "def afficher_grille(plateau:dict) -> None:\n",
    "    \"\"\"Fonction qui affiche la grille.\n",
    "\n",
    "    Args:\n",
    "        plateau (dict): Plateau de jeu.\n",
    "        \n",
    "    \"\"\"\n",
    "    print(\"\\t|t0\\t|t1\\t|t2\\t|\")\n",
    "    print(\"\\n-----------------------------------------------------------------------\")\n",
    "    for cle in plateau:\n",
    "        print(cle,end=\"\\t|\\t\")\n",
    "        for elt in plateau[cle]:\n",
    "            print(elt,end=\"\\t|\\t\")\n",
    "        print(\"\\n-----------------------------------------------------------------------\")\n",
    "            \n",
    "afficher_grille(Plateau)"
   ]
  },
  {
   "cell_type": "code",
   "execution_count": 7,
   "metadata": {},
   "outputs": [],
   "source": [
    "def jouer_un_coup(plateau:dict,joueur:str,coup:str) -> None:\n",
    "    \"\"\"FOnction qui joue un coup (ne verifie pas si le coup est valide)\n",
    "\n",
    "    Args:\n",
    "        plateau (dict): le plateau de jeu.\n",
    "        jouer (str): \"0\" ou \"X\"\n",
    "        coup (str): Coordonnées de la forme \"A1\"\n",
    "    \"\"\"\n",
    "    plateau[coup[0]][int(coup[1])] = joueur"
   ]
  },
  {
   "cell_type": "code",
   "execution_count": null,
   "metadata": {},
   "outputs": [],
   "source": []
  }
 ],
 "metadata": {
  "kernelspec": {
   "display_name": "Python 3",
   "language": "python",
   "name": "python3"
  },
  "language_info": {
   "codemirror_mode": {
    "name": "ipython",
    "version": 3
   },
   "file_extension": ".py",
   "mimetype": "text/x-python",
   "name": "python",
   "nbconvert_exporter": "python",
   "pygments_lexer": "ipython3",
   "version": "3.10.6"
  },
  "orig_nbformat": 4,
  "vscode": {
   "interpreter": {
    "hash": "916dbcbb3f70747c44a77c7bcd40155683ae19c65e1c03b4aa3499c5328201f1"
   }
  }
 },
 "nbformat": 4,
 "nbformat_minor": 2
}
