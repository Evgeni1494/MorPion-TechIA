{
 "cells": [
  {
   "cell_type": "markdown",
   "metadata": {},
   "source": [
    "# Correction Morpion\n"
   ]
  },
  {
   "cell_type": "markdown",
   "metadata": {},
   "source": [
    "## Grille"
   ]
  },
  {
   "cell_type": "code",
   "execution_count": 3,
   "metadata": {},
   "outputs": [],
   "source": [
    "Plateau = {\n",
    "    \"A\" : [None for _ in range(3)],\n",
    "    \"B\" : [None for _ in range(3)],\n",
    "    \"C\" : [None for _ in range(3)]\n",
    "}"
   ]
  },
  {
   "cell_type": "markdown",
   "metadata": {},
   "source": [
    "## Afficher Grille"
   ]
  },
  {
   "cell_type": "code",
   "execution_count": 6,
   "metadata": {},
   "outputs": [
    {
     "name": "stdout",
     "output_type": "stream",
     "text": [
      "\t|t0\t|t1\t|t2\t|\n",
      "\n",
      "-----------------------------------------------------------------------\n",
      "A\t|\tNone\t|\tNone\t|\tNone\t|\t\n",
      "-----------------------------------------------------------------------\n",
      "B\t|\tNone\t|\tNone\t|\tNone\t|\t\n",
      "-----------------------------------------------------------------------\n",
      "C\t|\tNone\t|\tNone\t|\tNone\t|\t\n",
      "-----------------------------------------------------------------------\n"
     ]
    }
   ],
   "source": [
    "def afficher_grille(plateau:dict) -> None:\n",
    "    \"\"\"Fonction qui affiche la grille.\n",
    "\n",
    "    Args:\n",
    "        plateau (dict): Plateau de jeu.\n",
    "        \n",
    "    \"\"\"\n",
    "    print(\"\\t|t0\\t|t1\\t|t2\\t|\")\n",
    "    print(\"\\n-----------------------------------------------------------------------\")\n",
    "    for cle in plateau:\n",
    "        print(cle,end=\"\\t|\\t\")\n",
    "        for elt in plateau[cle]:\n",
    "            print(elt,end=\"\\t|\\t\")\n",
    "        print(\"\\n-----------------------------------------------------------------------\")\n",
    "            \n",
    "afficher_grille(Plateau)"
   ]
  },
  {
   "cell_type": "code",
   "execution_count": 7,
   "metadata": {},
   "outputs": [],
   "source": [
    "def jouer_un_coup(plateau:dict,joueur:str,coup:str) -> None:\n",
    "    \"\"\"FOnction qui joue un coup (ne verifie pas si le coup est valide)\n",
    "\n",
    "    Args:\n",
    "        plateau (dict): le plateau de jeu.\n",
    "        jouer (str): \"0\" ou \"X\"\n",
    "        coup (str): Coordonnées de la forme \"A1\"\n",
    "    \"\"\"\n",
    "    plateau[coup[0]][int(coup[1])] = joueur"
   ]
  },
  {
   "cell_type": "markdown",
   "metadata": {},
   "source": [
    "## Verifier si le coup est valide"
   ]
  },
  {
   "cell_type": "code",
   "execution_count": null,
   "metadata": {},
   "outputs": [],
   "source": [
    "def coup_valide(plateau:dict,coup:str) -> bool:\n",
    "    \"\"\"FOnction si un coup est valide\n",
    "\n",
    "    Args:\n",
    "        plateau (dict): plateau du jeu\n",
    "        coup (str): un coup de la forme \"A1\" avec le premier character entre A et C et le second entre 0 et 2.as_integer_ratio\n",
    "        \n",
    "\n",
    "    Returns:\n",
    "        bool: True si le coup est valide, Fales sinon.\n",
    "    \"\"\"\n",
    "    # si le coup est valide\n",
    "    if coup[0].upper() not in [\"A\",\"B\",\"C\"]:\n",
    "        return False\n",
    "    if coup[1].upper() not in [\"0\",\"1\",\"2\"]:\n",
    "        return False\n",
    "    \n",
    "    # verifier si la case est vide\n",
    "    if plateau[coup[0].upper()][int(coup[1])] == None:\n",
    "        return True\n",
    "    else:\n",
    "        return False"
   ]
  },
  {
   "cell_type": "markdown",
   "metadata": {},
   "source": [
    "## Verifier si gagnante"
   ]
  },
  {
   "cell_type": "code",
   "execution_count": 8,
   "metadata": {},
   "outputs": [
    {
     "ename": "TypeError",
     "evalue": "list indices must be integers or slices, not str",
     "output_type": "error",
     "traceback": [
      "\u001b[0;31m---------------------------------------------------------------------------\u001b[0m",
      "\u001b[0;31mTypeError\u001b[0m                                 Traceback (most recent call last)",
      "Cell \u001b[0;32mIn[8], line 31\u001b[0m\n\u001b[1;32m     27\u001b[0m             \u001b[39mreturn\u001b[39;00m \u001b[39mTrue\u001b[39;00m\n\u001b[1;32m     28\u001b[0m     \u001b[39mreturn\u001b[39;00m \u001b[39mFalse\u001b[39;00m\n\u001b[0;32m---> 31\u001b[0m \u001b[39mprint\u001b[39m(est_gagnante(Plateau))\n",
      "Cell \u001b[0;32mIn[8], line 19\u001b[0m, in \u001b[0;36mest_gagnante\u001b[0;34m(plateau)\u001b[0m\n\u001b[1;32m     16\u001b[0m \u001b[39m# verifier colonnes\u001b[39;00m\n\u001b[1;32m     18\u001b[0m \u001b[39mfor\u001b[39;00m i \u001b[39min\u001b[39;00m \u001b[39mrange\u001b[39m(\u001b[39m3\u001b[39m):\n\u001b[0;32m---> 19\u001b[0m     \u001b[39mif\u001b[39;00m plateau[\u001b[39m\"\u001b[39;49m\u001b[39mA\u001b[39;49m\u001b[39m\"\u001b[39;49m][\u001b[39m\"\u001b[39;49m\u001b[39mi\u001b[39;49m\u001b[39m\"\u001b[39;49m] \u001b[39m==\u001b[39m plateau[\u001b[39m\"\u001b[39m\u001b[39mB\u001b[39m\u001b[39m\"\u001b[39m][\u001b[39m\"\u001b[39m\u001b[39mi\u001b[39m\u001b[39m\"\u001b[39m] \u001b[39m==\u001b[39m plateau[\u001b[39m\"\u001b[39m\u001b[39mC\u001b[39m\u001b[39m\"\u001b[39m][\u001b[39m\"\u001b[39m\u001b[39mi\u001b[39m\u001b[39m\"\u001b[39m] \u001b[39mand\u001b[39;00m plateau[\u001b[39m\"\u001b[39m\u001b[39mA\u001b[39m\u001b[39m\"\u001b[39m][\u001b[39m\"\u001b[39m\u001b[39mi\u001b[39m\u001b[39m\"\u001b[39m] \u001b[39m!=\u001b[39m \u001b[39mNone\u001b[39;00m:\n\u001b[1;32m     20\u001b[0m         \u001b[39mreturn\u001b[39;00m \u001b[39mTrue\u001b[39;00m\n\u001b[1;32m     22\u001b[0m \u001b[39m# verifier les diagonales\u001b[39;00m\n",
      "\u001b[0;31mTypeError\u001b[0m: list indices must be integers or slices, not str"
     ]
    }
   ],
   "source": [
    "def est_gagnante(plateau:dict) -> bool:\n",
    "    \"\"\"Fonction qui verifie si la grille est gagnante.\n",
    "\n",
    "    Args:\n",
    "        plateau (dict): le plateau de jeu\n",
    "\n",
    "    Returns:\n",
    "        bool: True si la grille est gagnante, False sinon.\n",
    "    \"\"\"\n",
    "    #Verification lignes\n",
    "    \n",
    "    for cle in plateau:\n",
    "        if plateau[cle][0] == plateau[cle][1] and plateau[cle][0] != None:\n",
    "            return True\n",
    "        \n",
    "    # verifier colonnes\n",
    "    \n",
    "    for i in range(3):\n",
    "        if plateau[\"A\"][\"i\"] == plateau[\"B\"][\"i\"] == plateau[\"C\"][\"i\"] and plateau[\"A\"][\"i\"] != None:\n",
    "            return True\n",
    "        \n",
    "    # verifier les diagonales\n",
    "    \n",
    "    if plateau[\"A\"][0] == plateau[\"B\"][1] == plateau[\"C\"][2] and plateau[\"A\"][0] != None:\n",
    "            return True\n",
    "    if plateau[\"A\"][2] == plateau[\"B\"][1] == plateau[\"C\"][0] and plateau[\"A\"][2] != None:\n",
    "            return True\n",
    "    return False\n",
    "\n",
    "\n",
    "\n",
    "    "
   ]
  },
  {
   "cell_type": "code",
   "execution_count": null,
   "metadata": {},
   "outputs": [],
   "source": [
    "def est_pleine(plateau:dict) -> bool:\n",
    "    \"\"\"Fonction qui verifie si la grille est pleine\n",
    "\n",
    "    Args:\n",
    "        plateau (dic): plateau du jeu\n",
    "\n",
    "    Returns:\n",
    "        bool: True si pleine False sinon.\n",
    "    \"\"\"\n",
    "    for cle in plateau:\n",
    "        for case in plateau[cle]:\n",
    "            if case == None:\n",
    "                return False\n",
    "    return True"
   ]
  }
 ],
 "metadata": {
  "kernelspec": {
   "display_name": "Python 3",
   "language": "python",
   "name": "python3"
  },
  "language_info": {
   "codemirror_mode": {
    "name": "ipython",
    "version": 3
   },
   "file_extension": ".py",
   "mimetype": "text/x-python",
   "name": "python",
   "nbconvert_exporter": "python",
   "pygments_lexer": "ipython3",
   "version": "3.10.6"
  },
  "orig_nbformat": 4,
  "vscode": {
   "interpreter": {
    "hash": "916dbcbb3f70747c44a77c7bcd40155683ae19c65e1c03b4aa3499c5328201f1"
   }
  }
 },
 "nbformat": 4,
 "nbformat_minor": 2
}
