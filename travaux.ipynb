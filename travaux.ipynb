{
 "cells": [
  {
   "cell_type": "code",
   "execution_count": 9,
   "metadata": {},
   "outputs": [
    {
     "name": "stdout",
     "output_type": "stream",
     "text": [
      "|1|2|3|\n",
      "|4|5|6|\n",
      "|7|8|9|\n"
     ]
    }
   ],
   "source": [
    "grille = \"|1|2|3|\\n|4|5|6|\\n|7|8|9|\"\n",
    "print (grille)"
   ]
  },
  {
   "cell_type": "code",
   "execution_count": 5,
   "metadata": {},
   "outputs": [
    {
     "name": "stdout",
     "output_type": "stream",
     "text": [
      "|1|2|3|\n",
      "|4|5|6|\n",
      "|7|8|9|\n"
     ]
    }
   ],
   "source": [
    "from helper import draw_board\n",
    "\n",
    "draw_board(emplacements)"
   ]
  },
  {
   "cell_type": "code",
   "execution_count": 1,
   "metadata": {},
   "outputs": [
    {
     "name": "stdout",
     "output_type": "stream",
     "text": [
      "|1|2|3|\n",
      "|4|5|6|\n",
      "|7|8|9|\n"
     ]
    }
   ],
   "source": [
    "emplacements = {1:\"1\",2:\"2\",3:\"3\",4:\"4\",\n",
    "                 5:\"5\",6:\"6\",7:\"7\",8:\"8\",9:\"9\"}\n",
    "# def draw_board(emplacements):\n",
    "#     board=(f\"|{emplacements[1]}|{emplacements[2]}|{emplacements[3]}|\\n\"\n",
    "#            f\"|{emplacements[4]}|{emplacements[5]}|{emplacements[6]}|\\n\"\n",
    "#            f\"|{emplacements[7]}|{emplacements[8]}|{emplacements[9]}|\")\n",
    "#     print(board)\n",
    "\n",
    "\n",
    "# fonction mis dans le module helper.py pour alleger le code\n",
    "\n",
    "from helper import draw_board\n",
    "\n",
    "draw_board(emplacements)\n"
   ]
  },
  {
   "cell_type": "code",
   "execution_count": 7,
   "metadata": {},
   "outputs": [
    {
     "name": "stdout",
     "output_type": "stream",
     "text": [
      "Second Draw:\n",
      "|X|2|3|\n",
      "|4|5|6|\n",
      "|7|8|9|\n"
     ]
    }
   ],
   "source": [
    "#test de mise a jour de la grille\n",
    "\n",
    "emplacements[1] = \"X\"\n",
    "print(\"Second Draw:\")\n",
    "draw_board(emplacements)"
   ]
  },
  {
   "cell_type": "code",
   "execution_count": 2,
   "metadata": {},
   "outputs": [
    {
     "name": "stdout",
     "output_type": "stream",
     "text": [
      "|1|2|3|\n",
      "|4|5|6|\n",
      "|7|8|9|\n",
      "|1|2|3|\n",
      "|4|5|6|\n",
      "|7|8|9|\n",
      "|1|2|3|\n",
      "|4|5|6|\n",
      "|7|8|9|\n",
      "|1|2|3|\n",
      "|4|5|6|\n",
      "|7|8|9|\n",
      "|1|2|3|\n",
      "|4|5|6|\n",
      "|7|8|9|\n",
      "|1|2|3|\n",
      "|4|5|6|\n",
      "|7|8|9|\n"
     ]
    }
   ],
   "source": [
    "# Boucle du jeu\n",
    "\n",
    "playing = True\n",
    "\n",
    "while playing:\n",
    "    #dessiner la grille\n",
    "    draw_board(emplacements)\n",
    "    # obtenir l'input du jouer\n",
    "    choix = input()\n",
    "    if choix == 'q':\n",
    "        # moyen d'eteindre le jeu\n",
    "        playing = False\n",
    "        "
   ]
  },
  {
   "cell_type": "code",
   "execution_count": 1,
   "metadata": {},
   "outputs": [
    {
     "name": "stdout",
     "output_type": "stream",
     "text": [
      "|1|2|3|\n",
      "|4|5|6|\n",
      "|7|8|9|\n",
      "\u001b[H\u001b[2J|1|2|3|\n",
      "|4|5|6|\n",
      "|7|8|9|\n"
     ]
    },
    {
     "ename": "TypeError",
     "evalue": "tour_jeu() takes 0 positional arguments but 1 was given",
     "output_type": "error",
     "traceback": [
      "\u001b[0;31m---------------------------------------------------------------------------\u001b[0m",
      "\u001b[0;31mTypeError\u001b[0m                                 Traceback (most recent call last)",
      "Cell \u001b[0;32mIn[1], line 23\u001b[0m\n\u001b[1;32m     21\u001b[0m     playing \u001b[39m=\u001b[39m \u001b[39mFalse\u001b[39;00m\n\u001b[1;32m     22\u001b[0m tour \u001b[39m+\u001b[39m\u001b[39m=\u001b[39m\u001b[39m1\u001b[39m\n\u001b[0;32m---> 23\u001b[0m emplacements[\u001b[39mint\u001b[39m(choix)] \u001b[39m=\u001b[39m tour_jeu(tour)\n",
      "\u001b[0;31mTypeError\u001b[0m: tour_jeu() takes 0 positional arguments but 1 was given"
     ]
    }
   ],
   "source": [
    "from helper import draw_board, tour_jeu\n",
    "import os\n",
    "emplacements = {1:\"1\",2:\"2\",3:\"3\",4:\"4\",\n",
    "                 5:\"5\",6:\"6\",7:\"7\",8:\"8\",9:\"9\"}\n",
    "\n",
    "draw_board(emplacements)\n",
    "\n",
    "# Boucle du jeu\n",
    "\n",
    "playing = True\n",
    "tour = 0 \n",
    "while playing:\n",
    "    # Refaire la grille a chaque fois que un choix est fait\n",
    "    os.system(\"cls\" if os.name == \"nt\" else \"clear\")\n",
    "    #dessiner la grille\n",
    "    draw_board(emplacements)\n",
    "    # obtenir l'input du jouer\n",
    "    choix = input()\n",
    "    if choix == 'q':\n",
    "        # moyen d'eteindre le jeu\n",
    "        playing = False\n",
    "    tour +=1\n",
    "    emplacements[int(choix)] = tour_jeu(tour)"
   ]
  },
  {
   "cell_type": "code",
   "execution_count": 1,
   "metadata": {},
   "outputs": [
    {
     "name": "stdout",
     "output_type": "stream",
     "text": [
      "|1|2|3|\n",
      "|4|5|6|\n",
      "|7|8|9|\n",
      "\u001b[H\u001b[2J|1|2|3|\n",
      "|4|5|6|\n",
      "|7|8|9|\n",
      "\u001b[H\u001b[2J|X|2|3|\n",
      "|4|5|6|\n",
      "|7|8|9|\n",
      "\u001b[H\u001b[2J|X|O|3|\n",
      "|4|5|6|\n",
      "|7|8|9|\n",
      "\u001b[H\u001b[2J|X|O|X|\n",
      "|4|5|6|\n",
      "|7|8|9|\n"
     ]
    }
   ],
   "source": [
    "from helper import draw_board, tour_jeu\n",
    "import os\n",
    "emplacements = {1:\"1\",2:\"2\",3:\"3\",4:\"4\",\n",
    "                 5:\"5\",6:\"6\",7:\"7\",8:\"8\",9:\"9\"}\n",
    "\n",
    "draw_board(emplacements)\n",
    "\n",
    "# Boucle du jeu\n",
    "\n",
    "playing = True\n",
    "tour = 0 \n",
    "while playing:\n",
    "    # Refaire la grille a chaque fois que un choix est fait\n",
    "    os.system(\"cls\" if os.name == \"nt\" else \"clear\")\n",
    "    #dessiner la grille\n",
    "    draw_board(emplacements)\n",
    "    # obtenir l'input du jouer\n",
    "    choix = input()\n",
    "    if choix == 'q':\n",
    "        # moyen d'eteindre le jeu\n",
    "        playing = False\n",
    "        # verifier que le nombre de l'input est bien entre 1 et 9\n",
    "    elif str.isdigit(choix) and int(choix) in emplacements:\n",
    "        # verifie si l'emplacement n'a pas déja était pris\n",
    "        if not emplacements[int(choix)] in {\"X\",\"O\"}:\n",
    "            #tout va bien on passe au tour suivant\n",
    "                tour +=1\n",
    "                emplacements[int(choix)] = tour_jeu(tour)"
   ]
  },
  {
   "cell_type": "code",
   "execution_count": 3,
   "metadata": {},
   "outputs": [
    {
     "name": "stdout",
     "output_type": "stream",
     "text": [
      "|1|2|3|\n",
      "|4|5|6|\n",
      "|7|8|9|\n",
      "\u001b[H\u001b[2J|1|2|3|\n",
      "|4|5|6|\n",
      "|7|8|9|\n",
      "Tour du jouer 1: faite votre choix.\n",
      "|1|2|3|\n",
      "|4|5|6|\n",
      "|7|8|9|\n",
      "\u001b[H\u001b[2J|1|2|3|\n",
      "|4|X|6|\n",
      "|7|8|9|\n",
      "Tour du jouer 2: faite votre choix.\n",
      "|1|2|3|\n",
      "|4|X|6|\n",
      "|7|8|9|\n"
     ]
    }
   ],
   "source": [
    "from helper import draw_board, tour_jeu, jeu_gagne\n",
    "import os\n",
    "emplacements = {1:\"1\",2:\"2\",3:\"3\",4:\"4\",\n",
    "                 5:\"5\",6:\"6\",7:\"7\",8:\"8\",9:\"9\"}\n",
    "\n",
    "draw_board(emplacements)\n",
    "\n",
    "# Boucle du jeu\n",
    "tour_avant= -1\n",
    "jeu_en_cours = True\n",
    "fin = False\n",
    "tour = 0 \n",
    "while playing:\n",
    "    # Refaire la grille a chaque fois que un choix est fait\n",
    "    os.system(\"cls\" if os.name == \"nt\" else \"clear\")\n",
    "    draw_board(emplacements)\n",
    "    # verifie que la case selectionnée est bien valide\n",
    "    if tour_avant == tour:\n",
    "        print(\"La case selectioné est déja prise. Choisisez une autre case.\")\n",
    "    tour_avant == tour\n",
    "    print(\"Tour du jouer \" + str((tour%2)+1) + \": faite votre choix.\")\n",
    "    #dessiner la grille\n",
    "    draw_board(emplacements)\n",
    "    # obtenir l'input du jouer\n",
    "    choix = input()\n",
    "    if choix == 'q':\n",
    "        # moyen d'eteindre le jeu\n",
    "        jeu_en_cours = False\n",
    "        # verifier que le nombre de l'input est bien entre 1 et 9\n",
    "    elif str.isdigit(choix) and int(choix) in emplacements:\n",
    "        # verifie si l'emplacement n'a pas déja était pris\n",
    "        if not emplacements[int(choix)] in {\"X\",\"O\"}:\n",
    "            #tout va bien on passe au tour suivant\n",
    "                tour +=1\n",
    "                emplacements[int(choix)] = tour_jeu(tour)\n",
    "        # Verifier si le jeu est gagné ou pas.\n",
    "    if jeu_gagne(emplacements): jeu_en_cours, fin = False, True\n",
    "    if tour > 8: jeu_en_cours = False\n",
    "    \n",
    "    \n",
    "# en dehors de la boucle on fait voir les résultats et la grille.\n",
    "os.system('cls' if os.name == 'nt' else 'clear')\n",
    "draw_board(emplacements)"
   ]
  }
 ],
 "metadata": {
  "kernelspec": {
   "display_name": "Python 3",
   "language": "python",
   "name": "python3"
  },
  "language_info": {
   "codemirror_mode": {
    "name": "ipython",
    "version": 3
   },
   "file_extension": ".py",
   "mimetype": "text/x-python",
   "name": "python",
   "nbconvert_exporter": "python",
   "pygments_lexer": "ipython3",
   "version": "3.10.6"
  },
  "orig_nbformat": 4,
  "vscode": {
   "interpreter": {
    "hash": "916dbcbb3f70747c44a77c7bcd40155683ae19c65e1c03b4aa3499c5328201f1"
   }
  }
 },
 "nbformat": 4,
 "nbformat_minor": 2
}
